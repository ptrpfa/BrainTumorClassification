{
 "cells": [
  {
   "cell_type": "markdown",
   "metadata": {},
   "source": [
    "# Data Preprocessing of MRI Brain images for detection of brain cancer (`dataset_1`)"
   ]
  },
  {
   "cell_type": "markdown",
   "metadata": {},
   "source": [
    "Three approaches were taken to preprocess the brain MRI dataset:\n",
    "\n",
    "<ins>Approach 1: Preprocess First</ins>\n",
    "1. Preprocess dataset\n",
    "2. Export preprocessed images into a new folder\n",
    "3. Utilise new preprocessed images to build the model\n",
    "\n",
    "<ins>Approach 2: Integrated Preprocessing</ins>\n",
    "1. Add preprocessing steps directly as layers of the model\n",
    "2. Build the model on top of these preprocessing layers\n",
    "\n",
    "<ins>Approach 3: Hybrid Approach</ins>\n",
    "1. Preprocess dataset and export the preprocessed images into a new folder\n",
    "2. Add additional preprocessing steps directly as layers of the model\n",
    "3. Build the model on top of preprocessing layers, utilising the exported images\n",
    "\n",
    "`Approach 1` was utilised in early stages of the project to visualise preprocessing and data augmentation operations performed on the dataset. This approach was used to solidfy the preprocessing pipeline required.\n",
    "\n",
    "Subsequently, `Approach 2` was utilised to directly integrate the preprocessing operations identified from experiments using `Approach 1` into the models. `Approach 2` is preferred as it removes the need for a separate preprocessing step prior to building the model.\n",
    "\n",
    "Whilst available, `Approach 3` was not utilised during the project, as there were no preprocessing operations found in `Approach 1` that could not be directly integrated into the models. However, `Approach 3` was always kept open as a viable option, should there be a need for such ad-hoc operations prior to building the model."
   ]
  },
  {
   "cell_type": "code",
   "execution_count": 2,
   "metadata": {},
   "outputs": [],
   "source": [
    "# Imports\n",
    "from config import *\n",
    "import os, cv2, random\n",
    "import numpy as np\n",
    "import matplotlib.pyplot as plt\n",
    "from collections import Counter\n",
    "from tensorflow.keras.preprocessing.image import ImageDataGenerator"
   ]
  },
  {
   "cell_type": "markdown",
   "metadata": {},
   "source": [
    "## Exploratory Data Analysis"
   ]
  },
  {
   "cell_type": "code",
   "execution_count": 3,
   "metadata": {},
   "outputs": [
    {
     "data": {
      "image/png": "[encoded data removed]",
      "text/plain": [
       "<Figure size 1000x500 with 1 Axes>"
      ]
     },
     "metadata": {},
     "output_type": "display_data"
    }
   ],
   "source": [
    "# Get class distribution of dataset\n",
    "class_counts = Counter()\n",
    "for root, dirs, files in os.walk(DATASET_FOLDER):\n",
    "    for dir_name in dirs:\n",
    "        class_path = os.path.join(root, dir_name)\n",
    "        class_counts[dir_name] = len(os.listdir(class_path))\n",
    "    break\n",
    "\n",
    "plt.figure(figsize=(10, 5))\n",
    "bar_chart = plt.bar(class_counts.keys(), class_counts.values())\n",
    "for bar in bar_chart:\n",
    "    height = bar.get_height()\n",
    "    plt.text(bar.get_x() + bar.get_width() / 2.0, height, str(height), ha='center', va='bottom')\n",
    "plt.xlabel('Class')\n",
    "plt.ylabel('Count')\n",
    "plt.title(\"Class Distribution of dataset_1\")\n",
    "plt.show()"
   ]
  },
  {
   "cell_type": "markdown",
   "metadata": {},
   "source": [
    "## Data Augmentation\n",
    "To enable the models to learn complex relationships and features, data augmentation was introduced to artificially increase the relatively small dataset's size by applying modifications on existing images, such as rotations and shifts. In doing so, new variation and noise are introduced to the models, enhancing their robustness and generalisation abilities, which in turn also helps in mitigating overfitting.\n",
    "\n",
    "Data augmentation techniques employed include:\n",
    "- Rotation: Rotating the image by a random angle.\n",
    "- Horizontal and Vertical Flips: Flipping the image horizontally or vertically.\n",
    "- Translation: Shifting the image horizontally or vertically.\n",
    "- Zoom: Zooming into or out of the image.\n",
    "- Shear: Shearing the image.\n",
    "- Brightness and Contrast: Adjusting the brightness and contrast of the image.\n",
    "- Noise Injection: Adding random noise to the image."
   ]
  },
  {
   "cell_type": "markdown",
   "metadata": {},
   "source": [
    "## Approach 1: Preprocess First\n",
    "This approach was utilised to better visualise data preprocessing operations and solidify the data preprocessing pipeline required, prior to model building."
   ]
  },
  {
   "cell_type": "code",
   "execution_count": null,
   "metadata": {},
   "outputs": [],
   "source": [
    "# Function to perform augmentation and save images\n",
    "def augment_and_save_image(image, target_dir, file_name_prefix, export=False, verbose=False):\n",
    "    # Define image augmentation operations (EXPERIMENT WITH PARAMETERS)\n",
    "    # datagen = ImageDataGenerator(\n",
    "    #     rotation_range=15,             \n",
    "    #     width_shift_range=0.1,         \n",
    "    #     height_shift_range=0.1,\n",
    "    #     brightness_range=[0.8, 1.2],   \n",
    "    #     zoom_range=0.2,                \n",
    "    #     shear_range=0.1,\n",
    "    #     horizontal_flip = True,\n",
    "    #     vertical_flip = False, # Avoid vertical_flip for brain MRIs\n",
    "    #     fill_mode='nearest'\n",
    "    # )\n",
    "    \n",
    "    # Define image augmentation parameters\n",
    "    datagen = ImageDataGenerator(\n",
    "        rotation_range = 10,\n",
    "        width_shift_range = 0.05,\n",
    "        height_shift_range = 0.05,\n",
    "        horizontal_flip = True,\n",
    "        vertical_flip = True,\n",
    "        fill_mode = 'nearest'\n",
    "    )\n",
    "    \n",
    "    # Reshape image to fit the expected input shape for ImageDataGenerator\n",
    "    image = np.expand_dims(image, axis=0)\n",
    "    \n",
    "    # Generate augmented images\n",
    "    augmented_images = datagen.flow(image, batch_size=1)\n",
    "    \n",
    "    # Save augmented images, if required\n",
    "    if(export):\n",
    "        for i, batch in enumerate(augmented_images):\n",
    "            augmented_image = batch[0].astype(np.uint8)\n",
    "            file_name = f\"{file_name_prefix}_aug_{i}.jpg\"\n",
    "            target_path = os.path.join(target_dir, file_name)\n",
    "            cv2.imwrite(target_path, augmented_image)\n",
    "            \n",
    "            # Regulate total no of generated augmented images\n",
    "            if (i + 1) >= AUGMENT_COUNT:\n",
    "                break\n",
    "\n",
    "    # Display augmentations, if required\n",
    "    if(verbose):\n",
    "        # Save augmented images for visualisations\n",
    "        list_augmented_images = []\n",
    "        for i, batch in enumerate(augmented_images):\n",
    "            # Convert images from BGR to RGB for matplotlib\n",
    "            augmented_image = batch[0].astype(np.uint8)\n",
    "            augmented_rgb = cv2.cvtColor(augmented_image, cv2.COLOR_BGR2RGB)\n",
    "            list_augmented_images.append(augmented_rgb)\n",
    "            \n",
    "            # Regulate total no of generated augmented images\n",
    "            if (i + 1) >= AUGMENT_COUNT:\n",
    "                break\n",
    "        \n",
    "        # Convert original image from BGR to RGB for matplotlib\n",
    "        original_rgb = cv2.cvtColor(image[0], cv2.COLOR_BGR2RGB)\n",
    "        \n",
    "        # Display original and augmented images side by side\n",
    "        plt.figure(figsize=(16, 6))\n",
    "        \n",
    "        # Original image\n",
    "        plt.subplot(1, AUGMENT_COUNT + 1, 1)\n",
    "        plt.imshow(original_rgb)\n",
    "        plt.title('Original')\n",
    "        plt.axis('off')\n",
    "        \n",
    "        # Augmented images\n",
    "        for i in range(len(list_augmented_images)):\n",
    "            plt.subplot(1, AUGMENT_COUNT + 1, i + 2)\n",
    "            plt.imshow(list_augmented_images[i])\n",
    "            plt.title(f'Augmented {i + 1}')\n",
    "            plt.axis('off')\n",
    "            \n",
    "        plt.tight_layout()\n",
    "        plt.show()"
   ]
  },
  {
   "cell_type": "code",
   "execution_count": null,
   "metadata": {},
   "outputs": [],
   "source": [
    "# Iterate through each subdirectory in the dataset\n",
    "for subdir in os.listdir(DATASET_FOLDER):\n",
    "    subdir_path = os.path.join(DATASET_FOLDER, subdir)\n",
    "    print(subdir)\n",
    "    if os.path.isdir(subdir_path):\n",
    "        # Create corresponding subdirectory in target_dir\n",
    "        target_subdir = os.path.join(NEW_DATASET_FOLDER, subdir)\n",
    "        os.makedirs(target_subdir, exist_ok=True)\n",
    "        \n",
    "        # Visualisation counter\n",
    "        counter = 0\n",
    "        \n",
    "        # Iterate through images in the subdirectory\n",
    "        for file_name in os.listdir(subdir_path):\n",
    "            file_path = os.path.join(subdir_path, file_name)\n",
    "            if os.path.isfile(file_path) and file_name.endswith(\".jpg\"):\n",
    "                # Read the image\n",
    "                image = cv2.imread(file_path)\n",
    "                \n",
    "                # Perform data augmentation and save augmented images\n",
    "                augment_and_save_image(image, target_subdir, os.path.splitext(file_name)[0], export=True, verbose=(counter < VISUALISE_COUNT))\n",
    "                counter += 1"
   ]
  }
 ],
 "metadata": {
  "kernelspec": {
   "display_name": ".venv",
   "language": "python",
   "name": "python3"
  },
  "language_info": {
   "codemirror_mode": {
    "name": "ipython",
    "version": 3
   },
   "file_extension": ".py",
   "mimetype": "text/x-python",
   "name": "python",
   "nbconvert_exporter": "python",
   "pygments_lexer": "ipython3",
   "version": "3.12.3"
  }
 },
 "nbformat": 4,
 "nbformat_minor": 2
}
